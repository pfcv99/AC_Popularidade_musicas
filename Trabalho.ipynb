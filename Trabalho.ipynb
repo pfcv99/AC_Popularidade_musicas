{
 "cells": [
  {
   "cell_type": "markdown",
   "metadata": {},
   "source": [
    "# Predictor de Popularidade de Músicas"
   ]
  },
  {
   "cell_type": "markdown",
   "metadata": {},
   "source": [
    "**Índice**<a id='toc0_'></a>    \n",
    "1. [Introdução](#toc1_)    \n",
    "2. [Preparação do notebook para R e Python em sumultâneo](#toc2_)    \n",
    "3. [Script R Madalena](#toc3_)    \n",
    "4. [Importação dos módulos](#toc4_)    \n",
    "5. [Exploração dos dados em bruto](#toc5_)    \n",
    "5.1. [Upload dos dados](#toc5_1_)    \n",
    "5.2. [Criação do dataframe](#toc5_2_)    \n",
    "5.3. [Visualização do dataframe em bruto e de algumas métricas](#toc5_3_)    \n",
    "6. [Análise Exploratória](#toc6_)    \n",
    "6.1. [Distribuição dos valores em cada coluna](#toc6_1_)    \n",
    "7. [Pré-processamento dos dados](#toc7_)    \n",
    "7.1. [Identificação de Valores Ausentes](#toc7_1_)    \n",
    "7.2. [Remoção de musicas com tempo 0 e sem palavras](#toc7_2_)    \n",
    "7.3. [Identificação e remoção de duplicados](#toc7_3_)    \n",
    "7.4. [Definir variáveis categóricas e variáveis numéricas](#toc7_4_)    \n",
    "7.5. [Definir o índice](#toc7_5_)    \n",
    "7.6. [Método do intervalo interquartil (IQR) para filtrar outliers](#toc7_6_)    \n",
    "7.7. [Estatísticas do dataset](#toc7_7_)    \n",
    "7.8. [Standerização dos dados](#toc7_8_)    \n",
    "8. [Divisão em conjunto de treino e conjunto de teste](#toc8_)    \n",
    "9. [Implementação de algoritmos de Aprendizagem Computacional](#toc9_)    \n",
    "9.1. [Random Forest](#toc9_1_)    \n",
    "9.1.1. [Treino inicial do modelo](#toc9_1_1_)    \n",
    "9.1.2. [Afinação dos hiperparâmetros com o GridSearchCV](#toc9_1_2_)    \n",
    "9.1.3. [Configurar e executar o GridSearchCV](#toc9_1_3_)    \n",
    "9.1.4. [Treino do modelo com os melhores hiperparâmetros](#toc9_1_4_)    \n",
    "10. [Resultados](#toc10_)    \n",
    "11. [Considerações finais](#toc11_)    \n",
    "\n",
    "<!-- vscode-jupyter-toc-config\n",
    "\tnumbering=true\n",
    "\tanchor=true\n",
    "\tflat=true\n",
    "\tminLevel=2\n",
    "\tmaxLevel=6\n",
    "\t/vscode-jupyter-toc-config -->\n",
    "<!-- THIS CELL WILL BE REPLACED ON TOC UPDATE. DO NOT WRITE YOUR TEXT IN THIS CELL -->"
   ]
  },
  {
   "cell_type": "markdown",
   "metadata": {},
   "source": [
    "## 1. <a id='toc1_'></a>[Introdução](#toc0_)"
   ]
  },
  {
   "cell_type": "markdown",
   "metadata": {},
   "source": [
    "## 2. <a id='toc2_'></a>[Preparação do notebook para R e Python em sumultâneo](#toc0_)"
   ]
  },
  {
   "cell_type": "code",
   "execution_count": null,
   "metadata": {},
   "outputs": [],
   "source": [
    "# ! R -e \"install.packages('IRkernel', repos = 'http://cran.us.r-project.org');IRkernel::installspec()\""
   ]
  },
  {
   "cell_type": "code",
   "execution_count": null,
   "metadata": {},
   "outputs": [],
   "source": [
    "# ! pip install rpy2"
   ]
  },
  {
   "cell_type": "code",
   "execution_count": null,
   "metadata": {},
   "outputs": [],
   "source": [
    "import rpy2\n",
    "print(rpy2.__version__)\n",
    "\n",
    "import rpy2.situation\n",
    "for row in rpy2.situation.iter_info():\n",
    "    print(row)\n",
    "\n",
    "import rpy2.robjects as robjects\n",
    "from rpy2.robjects.packages import importr\n",
    "from rpy2.robjects.vectors import StrVector\n",
    "\n",
    "# Importing necessary R packages\n",
    "r_base = importr('base')\n",
    "r_utils = importr('utils')\n",
    "pls = importr('pls')\n",
    "psych = importr('psych')\n",
    "readr = importr('readr')\n",
    "tree = importr('tree')\n",
    "caret = importr('caret')\n",
    "gbm = importr('gbm')\n",
    "rpart = importr('rpart')\n",
    "rpart_plot = importr('rpart.plot')\n",
    "randomForest = importr('randomForest')\n",
    "pROC = importr('pROC')\n",
    "ggplot2 = importr('ggplot2')\n",
    "reshape2 = importr('reshape2')"
   ]
  },
  {
   "cell_type": "code",
   "execution_count": null,
   "metadata": {},
   "outputs": [],
   "source": [
    "%load_ext rpy2.ipython"
   ]
  },
  {
   "cell_type": "code",
   "execution_count": null,
   "metadata": {},
   "outputs": [],
   "source": [
    "#%%R -i df_no_outliers\n",
    "#head(df_no_outliers) #Exemplo de utilização"
   ]
  },
  {
   "cell_type": "markdown",
   "metadata": {},
   "source": [
    "## 3. <a id='toc3_'></a>[Script R Madalena](#toc0_)"
   ]
  },
  {
   "cell_type": "code",
   "execution_count": null,
   "metadata": {},
   "outputs": [],
   "source": [
    "%%R\n",
    "data=read.csv(\"data/song_data.csv\")\n",
    "head(data)\n",
    "data.numeric <- data[,sapply(data, is.numeric)]\n",
    "\n",
    "head(data.numeric)\n",
    "install.packages(\"pls\")\n",
    "library(pls)\n",
    "library(psych) \n",
    "library(readr)\n",
    "library(tree)\n",
    "library(caret)\n",
    "library(gbm)\n",
    "library(rpart)\n",
    "library(rpart.plot)\n",
    "library(randomForest)\n",
    "library(caret)\n",
    "library(pROC)\n",
    "library(ggplot2)\n",
    "library(reshape2)"
   ]
  },
  {
   "cell_type": "code",
   "execution_count": null,
   "metadata": {},
   "outputs": [],
   "source": [
    "%%R \n",
    "quartiles <- quantile(data$song_popularity, probs = c(0, 0.25, 0.5, 0.75, 0.95), na.rm = TRUE)\n",
    "breaks <- c(quartiles[1:5], Inf)\n",
    "labels <- c(\"Não_popular\", \"Pouco_popular\", \"Rádio_amigável\", \"Popular\", \"Viral\")\n",
    "data$song_category <- cut(data$song_popularity, breaks = breaks, labels = labels, include.lowest = TRUE)\n",
    "summary(data$song_category)\n",
    "data$song_name<-NULL\n",
    "head(data)"
   ]
  },
  {
   "cell_type": "code",
   "execution_count": null,
   "metadata": {},
   "outputs": [],
   "source": [
    "%%R\n",
    "hist(data$song_duration_ms)\n",
    "hist(data$acousticness)\n",
    "hist(data$tempo)\n",
    "correlation_matrix <- cor(data.numeric)\n",
    "correlation_data <- melt(correlation_matrix)"
   ]
  },
  {
   "cell_type": "code",
   "execution_count": null,
   "metadata": {},
   "outputs": [],
   "source": [
    "%%R\n",
    "ggplot(correlation_data, aes(Var1, Var2, fill = value)) +\n",
    "  geom_tile(color = \"white\") +\n",
    "  scale_fill_gradient2(low = \"blue\", high = \"red\", mid = \"white\", \n",
    "                       midpoint = 0, limit = c(-1,1), \n",
    "                       space = \"Lab\", name=\"Correlation\") +\n",
    "  geom_text(aes(label = round(value, 2)), color = \"black\", size = 3) +\n",
    "  theme_minimal() +\n",
    "  theme(axis.text.x = element_text(angle = 45, vjust = 1, size = 10, hjust = 1)) +\n",
    "  coord_fixed() +\n",
    "  labs(title = \"Correlation Heatmap\", x = \"Variables\", y = \"Variables\")"
   ]
  },
  {
   "cell_type": "code",
   "execution_count": null,
   "metadata": {},
   "outputs": [],
   "source": [
    "%%R\n",
    "boxplot(data$song_duration_ms)\n",
    "\n",
    "boxplot(data$instrumentalness)\n",
    "ggplot(data, aes(x = song_category, y = song_duration_ms)) +\n",
    "  geom_boxplot() +\n",
    "  labs(title = \"Box plot of Your Variable by Song Category\",\n",
    "       x = \"Song Category\",\n",
    "       y = \"song_duration_ms\")\n",
    "\n",
    "\n",
    "threshold <- 1000000  # limite dos outliers (limite)\n",
    "data <- data[data$song_duration_ms <= threshold, ]\n",
    "dim(data)\n",
    "18835-18831 ##4 outliers eliminados\n",
    "\n",
    "#####Variavel acousticness\n",
    "\n",
    "ggplot(data, aes(x = song_category, y = acousticness)) +\n",
    "  geom_boxplot() +\n",
    "  labs(title = \"Box plot of Your Variable by Song Category\",\n",
    "       x = \"Song Category\",\n",
    "       y = \"Acousticness\")\n",
    "\n",
    "# Definir o limite (threshold)\n",
    "threshold1 <- 0.98\n",
    "data <- data[!(data$song_category == \"Popular\" & data$acousticness > threshold1), ]\n",
    "head(data)\n",
    "18835-18814 ##21 outliers eliminados\n",
    "\n",
    "\n",
    "#####Variavel Energy\n",
    "##Não é preciso eliminar outliers\n",
    "\n",
    "ggplot(data, aes(x = song_category, y = energy\n",
    ")) +\n",
    "  geom_boxplot() +\n",
    "  labs(title = \"Box plot of Your Variable by Song Category\",\n",
    "       x = \"Song Category\",\n",
    "       y = \"Energy\")\n",
    "\n",
    "\n",
    "#####Variavel Speechiness\n",
    "\n",
    "ggplot(data, aes(x = song_category, y = speechiness\n",
    ")) +\n",
    "  geom_boxplot() +\n",
    "  labs(title = \"Box plot of Your Variable by Song Category\",\n",
    "       x = \"Song Category\",\n",
    "       y = \"Speechiness\")\n",
    "\n",
    "threshold1 <- 0.9  \n",
    "threshold2 <- 0.9 \n",
    "threshold3 <- 0.75\n",
    "threshold4 <- 0.5\n",
    "data <- data[!(data$song_category == \"Not_popular\" & data$speechiness > threshold1), ]\n",
    "data <- data[!(data$song_category == \"Low_popularity\" & data$speechiness > threshold2), ]\n",
    "data <- data[!(data$song_category == \"Radio_friendly\" & data$speechiness > threshold3), ]\n",
    "data <- data[!(data$song_category == \"Popular\" & data$speechiness > threshold4), ]\n",
    "\n",
    "dim(data)\n",
    "18831-18794 ##37 outliers eliminados\n",
    "\n",
    "####Variavel Loudness\n",
    "\n",
    "ggplot(data, aes(x = song_category, y = loudness\n",
    ")) +\n",
    "  geom_boxplot() +\n",
    "  labs(title = \"Box plot of Your Variable by Song Category\",\n",
    "       x = \"Song Category\",\n",
    "       y = \"Loudness\")\n",
    "threshold1=-35\n",
    "data <- data[!(data$loudness < threshold1), ]\n",
    "dim(data)\n",
    "18831-18788 ##43 outliers eliminados\n",
    "\n",
    "####Variavel Speechiness\n",
    "\n",
    "ggplot(data, aes(x = song_category, y = speechiness\n",
    ")) +\n",
    "  geom_boxplot() +\n",
    "  labs(title = \"Box plot of Your Variable by Song Category\",\n",
    "       x = \"Song Category\",\n",
    "       y = \"Speechiness\")\n",
    "\n",
    "threshold1=0.85\n",
    "data <- data[!(data$speechiness > threshold1), ]\n",
    "dim(data)\n",
    "18831-18783 ##48 outliers eliminados\n",
    "\n",
    "\n",
    "##Variavel Tempo\n",
    "ggplot(data, aes(x = song_category, y = tempo\n",
    ")) +\n",
    "  geom_boxplot() +\n",
    "  labs(title = \"Box plot of Your Variable by Song Category\",\n",
    "       x = \"Song Category\",\n",
    "       y = \"Tempo\")\n",
    "threshold1=230\n",
    "threshold2=0\n",
    "data <- data[!(data$tempo > threshold1), ]\n",
    "data <- data[!(data$tempo <= threshold2), ]\n",
    "dim(data)\n",
    "18831-18780 ##51 outliers eliminados\n",
    "\n",
    "\n",
    "##Variavel Danceability\n",
    "ggplot(data, aes(x = song_category, y = danceability\n",
    ")) +\n",
    "  geom_boxplot() +\n",
    "  labs(title = \"Box plot of Your Variable by Song Category\",\n",
    "       x = \"Song Category\",\n",
    "       y = \"Danceability\")\n"
   ]
  },
  {
   "cell_type": "code",
   "execution_count": null,
   "metadata": {},
   "outputs": [],
   "source": [
    "%%R\n",
    "df <- data.frame(data)"
   ]
  },
  {
   "cell_type": "markdown",
   "metadata": {},
   "source": [
    "## 4. <a id='toc4_'></a>[Importação dos módulos](#toc0_)"
   ]
  },
  {
   "cell_type": "code",
   "execution_count": null,
   "metadata": {},
   "outputs": [],
   "source": [
    "import pandas as pd\n",
    "import numpy as np\n",
    "from scipy import stats\n",
    "import seaborn as sns\n",
    "import matplotlib.pyplot as plt\n"
   ]
  },
  {
   "cell_type": "markdown",
   "metadata": {},
   "source": [
    "## 5. <a id='toc5_'></a>[Exploração dos dados em bruto](#toc0_)"
   ]
  },
  {
   "cell_type": "markdown",
   "metadata": {},
   "source": [
    "### 5.1. <a id='toc5_1_'></a>[Upload dos dados](#toc0_)"
   ]
  },
  {
   "cell_type": "code",
   "execution_count": null,
   "metadata": {},
   "outputs": [],
   "source": [
    "data = pd.read_csv('data/song_data.csv')"
   ]
  },
  {
   "cell_type": "markdown",
   "metadata": {},
   "source": [
    "### 5.2. <a id='toc5_2_'></a>[Criação do dataframe](#toc0_)"
   ]
  },
  {
   "cell_type": "code",
   "execution_count": null,
   "metadata": {},
   "outputs": [],
   "source": [
    "df_raw = pd.DataFrame(data)"
   ]
  },
  {
   "cell_type": "markdown",
   "metadata": {},
   "source": [
    "### 5.3. <a id='toc5_3_'></a>[Visualização do dataframe em bruto e de algumas métricas](#toc0_)"
   ]
  },
  {
   "cell_type": "code",
   "execution_count": null,
   "metadata": {},
   "outputs": [],
   "source": [
    "df_no_outliers = %R df"
   ]
  },
  {
   "cell_type": "code",
   "execution_count": null,
   "metadata": {},
   "outputs": [],
   "source": [
    "df_raw.info()"
   ]
  },
  {
   "cell_type": "code",
   "execution_count": null,
   "metadata": {},
   "outputs": [],
   "source": [
    "df_raw.shape"
   ]
  },
  {
   "cell_type": "markdown",
   "metadata": {},
   "source": [
    "## 6. <a id='toc6_'></a>[Análise Exploratória](#toc0_)"
   ]
  },
  {
   "cell_type": "markdown",
   "metadata": {},
   "source": [
    "### 6.1. <a id='toc6_1_'></a>[Distribuição dos valores em cada coluna](#toc0_)"
   ]
  },
  {
   "cell_type": "code",
   "execution_count": null,
   "metadata": {},
   "outputs": [],
   "source": [
    "col_names = df_raw.columns\n",
    "\n",
    "col_names"
   ]
  },
  {
   "cell_type": "code",
   "execution_count": null,
   "metadata": {},
   "outputs": [],
   "source": [
    "col_counts = {}\n",
    "\n",
    "for col in col_names:\n",
    "    col_counts[col] = df_raw[col].value_counts()\n",
    "\n",
    "col_counts\n"
   ]
  },
  {
   "cell_type": "code",
   "execution_count": null,
   "metadata": {},
   "outputs": [],
   "source": []
  },
  {
   "cell_type": "markdown",
   "metadata": {},
   "source": [
    "## 7. <a id='toc7_'></a>[Pré-processamento dos dados](#toc0_)"
   ]
  },
  {
   "cell_type": "markdown",
   "metadata": {},
   "source": [
    "### 7.1. <a id='toc7_1_'></a>[Identificação de Valores Ausentes](#toc0_)"
   ]
  },
  {
   "cell_type": "code",
   "execution_count": null,
   "metadata": {},
   "outputs": [],
   "source": [
    "df_raw.isnull().sum()"
   ]
  },
  {
   "cell_type": "markdown",
   "metadata": {},
   "source": [
    "### 7.2. <a id='toc7_2_'></a>[Remoção de musicas com tempo 0 e sem palavras](#toc0_)"
   ]
  },
  {
   "cell_type": "code",
   "execution_count": null,
   "metadata": {},
   "outputs": [],
   "source": [
    "df_raw.drop(df_raw[(df_raw['tempo']==0) & (df_raw['speechiness']==0)].index, inplace=True)"
   ]
  },
  {
   "cell_type": "markdown",
   "metadata": {},
   "source": [
    "### 7.3. <a id='toc7_3_'></a>[Identificação e remoção de duplicados](#toc0_)"
   ]
  },
  {
   "cell_type": "code",
   "execution_count": null,
   "metadata": {},
   "outputs": [],
   "source": [
    "df_raw.drop_duplicates(inplace=True)"
   ]
  },
  {
   "cell_type": "code",
   "execution_count": null,
   "metadata": {},
   "outputs": [],
   "source": [
    "df_raw.shape"
   ]
  },
  {
   "cell_type": "markdown",
   "metadata": {},
   "source": [
    "### 7.4. <a id='toc7_4_'></a>[Definir variáveis categóricas e variáveis numéricas](#toc0_)"
   ]
  },
  {
   "cell_type": "code",
   "execution_count": null,
   "metadata": {},
   "outputs": [],
   "source": [
    "from sklearn.compose import make_column_selector as selector\n",
    "numerical_columns_selector = selector(dtype_exclude='category')\n",
    "categorical_columns_selector = selector(dtype_include='category')\n",
    "\n",
    "numerical_columns = numerical_columns_selector(X)\n",
    "categorical_columns = categorical_columns_selector(X)"
   ]
  },
  {
   "cell_type": "markdown",
   "metadata": {},
   "source": [
    "### 7.5. <a id='toc7_5_'></a>[Definir o índice](#toc0_)"
   ]
  },
  {
   "cell_type": "code",
   "execution_count": null,
   "metadata": {},
   "outputs": [],
   "source": [
    "df_raw.set_index('song_name', inplace=True)"
   ]
  },
  {
   "cell_type": "markdown",
   "metadata": {},
   "source": [
    "### 7.6. <a id='toc7_6_'></a>[Método do intervalo interquartil (IQR) para filtrar outliers](#toc0_)"
   ]
  },
  {
   "cell_type": "code",
   "execution_count": null,
   "metadata": {},
   "outputs": [],
   "source": [
    "numeric_columns = df_raw.select_dtypes(include='number')\n",
    "\n",
    "# Calcula Q1, Q3 e IQR para cada coluna numérica\n",
    "Q1 = numeric_columns.quantile(0.25)\n",
    "Q3 = numeric_columns.quantile(0.75)\n",
    "IQR = Q3 - Q1\n",
    "\n",
    "# Define os limites para identificar outliers\n",
    "lower_bound = Q1 - 1.5 * IQR \n",
    "upper_bound = Q3 + 1.5 * IQR\n",
    "\n",
    "# Identifica e remove outliers\n",
    "outliers = ((numeric_columns < lower_bound) | (numeric_columns > upper_bound)).any(axis=1)\n",
    "df_no_outliers = df_raw[~outliers]"
   ]
  },
  {
   "cell_type": "code",
   "execution_count": null,
   "metadata": {},
   "outputs": [],
   "source": [
    "df_no_outliers"
   ]
  },
  {
   "cell_type": "code",
   "execution_count": null,
   "metadata": {},
   "outputs": [],
   "source": [
    "df_no_outliers.shape"
   ]
  },
  {
   "cell_type": "markdown",
   "metadata": {},
   "source": [
    "Inferência:\n",
    "\n",
    "Antes da remoção de duplicados e outliers, o conjunto de dados tinha 18835 amostras.\n",
    "\n",
    "Após a remoção de duplicados e outliers, o conjunto de dados ficou com 8609 amostras."
   ]
  },
  {
   "cell_type": "markdown",
   "metadata": {},
   "source": [
    "### 7.7. <a id='toc7_7_'></a>[Estatísticas do dataset](#toc0_)"
   ]
  },
  {
   "cell_type": "code",
   "execution_count": null,
   "metadata": {},
   "outputs": [],
   "source": [
    "import matplotlib.pyplot as plt\n",
    "\n",
    "# Definindo as cores\n",
    "colors = ['green', 'red']  # Exemplo de cores: azul e laranja\n",
    "\n",
    "plt.title('Dataset Final')\n",
    "plt.pie([df_no_outliers.shape[0], df_raw.shape[0]-df_no_outliers.shape[0]], \n",
    "        radius=1, \n",
    "        labels=['Mantido', 'Excluído'], \n",
    "        counterclock=False, \n",
    "        autopct='%1.1f%%', \n",
    "        pctdistance=0.9, \n",
    "        explode=[0.02, 0], \n",
    "        shadow=False,\n",
    "        colors=colors)  # Adicionando a lista de cores\n",
    "plt.show()\n"
   ]
  },
  {
   "cell_type": "code",
   "execution_count": null,
   "metadata": {},
   "outputs": [],
   "source": [
    "df_no_outliers.describe()"
   ]
  },
  {
   "cell_type": "code",
   "execution_count": null,
   "metadata": {},
   "outputs": [],
   "source": [
    "plt.figure(figsize=[8,4])\n",
    "sns.distplot(df_no_outliers['song_popularity'], color='b',hist_kws=dict(edgecolor=\"black\", linewidth=2), bins=50)\n",
    "plt.title('Target Variable Distribution - Song Popularity')\n",
    "plt.show()"
   ]
  },
  {
   "cell_type": "code",
   "execution_count": null,
   "metadata": {},
   "outputs": [],
   "source": [
    "plt.figure(figsize=[8,4])\n",
    "sns.distplot(df_no_outliers['song_popularity'], color='black',hist_kws=dict(edgecolor=\"black\", linewidth=2), bins=50)\n",
    "plt.title('Target Variable Distribution - Song Popularity')\n",
    "plt.show()"
   ]
  },
  {
   "cell_type": "code",
   "execution_count": null,
   "metadata": {},
   "outputs": [],
   "source": [
    "# Configurar a figura com duas subplots\n",
    "fig, axes = plt.subplots(nrows=1, ncols=2, figsize=(16, 4))\n",
    "\n",
    "# Plotar o primeiro gráfico\n",
    "sns.histplot(df_no_outliers['song_popularity'], color='black', edgecolor=\"black\", linewidth=2, bins=50, ax=axes[0])\n",
    "axes[0].set_title('Target Variable Distribution - Song Popularity')\n",
    "\n",
    "# Plotar o segundo gráfico\n",
    "sns.histplot(df_no_outliers['song_popularity'], color='b', edgecolor=\"black\", linewidth=2, bins=50, ax=axes[1])\n",
    "axes[1].set_title('Target Variable Distribution - Song Popularity (No Outliers)')\n",
    "\n",
    "# Mostrar o gráfico\n",
    "plt.tight_layout()\n",
    "plt.show()"
   ]
  },
  {
   "cell_type": "code",
   "execution_count": null,
   "metadata": {},
   "outputs": [],
   "source": [
    "# Splitting the data intro training & testing sets\n",
    "\n",
    "from sklearn.model_selection import train_test_split\n",
    "\n",
    "m=[]\n",
    "for i in df_no_outliers.columns.values:\n",
    "    m.append(i.replace(' ','_'))\n",
    "    \n",
    "df_no_outliers.columns = m\n",
    "X = df_no_outliers[['song_duration_ms', 'acousticness', 'danceability', 'energy', 'instrumentalness', 'key', 'liveness', 'loudness', 'audio_mode', 'speechiness', 'tempo', 'time_signature', 'audio_valence']]\n",
    "X.loc[:, ['key', 'audio_mode', 'time_signature']] = X.loc[:, ['key', 'audio_mode', 'time_signature']].astype('category')\n",
    "Y = df_no_outliers[\"song_popularity\"]\n",
    "\n"
   ]
  },
  {
   "cell_type": "markdown",
   "metadata": {},
   "source": [
    "### 7.8. <a id='toc7_8_'></a>[Standerização dos dados](#toc0_)"
   ]
  },
  {
   "cell_type": "code",
   "execution_count": null,
   "metadata": {},
   "outputs": [],
   "source": [
    "from sklearn.preprocessing import OneHotEncoder, StandardScaler\n",
    "categorical_preprocessor = OneHotEncoder(handle_unknown=\"ignore\")\n",
    "numerical_preprocessor = StandardScaler()"
   ]
  },
  {
   "cell_type": "code",
   "execution_count": null,
   "metadata": {},
   "outputs": [],
   "source": [
    "from sklearn.compose import ColumnTransformer\n",
    "preprocessor = ColumnTransformer([\n",
    "    ('One-Hot-Encoder', categorical_preprocessor, categorical_columns),\n",
    "    ('Standard-Scaler', numerical_preprocessor, numerical_columns)])"
   ]
  },
  {
   "cell_type": "markdown",
   "metadata": {},
   "source": [
    "## 8. <a id='toc8_'></a>[Divisão em conjunto de treino e conjunto de teste](#toc0_)"
   ]
  },
  {
   "cell_type": "code",
   "execution_count": null,
   "metadata": {},
   "outputs": [],
   "source": [
    "Train_X, Test_X, Train_Y, Test_Y = train_test_split(X, Y, train_size=0.8, test_size=0.2, random_state=42)\n",
    "Train_X.reset_index(drop=True,inplace=True)\n",
    "\n",
    "print('Conjunto original (100%): ',X.shape,Y.shape,'\\nConjunto de treino (80%): ',Train_X.shape,Train_Y.shape,'\\nConjunto de teste (20%): ', Test_X.shape,'', Test_Y.shape)"
   ]
  },
  {
   "cell_type": "markdown",
   "metadata": {},
   "source": [
    "## 9. <a id='toc9_'></a>[Implementação de algoritmos de Aprendizagem Computacional](#toc0_)"
   ]
  },
  {
   "cell_type": "markdown",
   "metadata": {},
   "source": [
    "### 9.1. <a id='toc9_1_'></a>[Random Forest](#toc0_)"
   ]
  },
  {
   "cell_type": "markdown",
   "metadata": {},
   "source": [
    "#### 9.1.1. <a id='toc9_1_1_'></a>[Treino inicial do modelo](#toc0_)"
   ]
  },
  {
   "cell_type": "code",
   "execution_count": null,
   "metadata": {},
   "outputs": [],
   "source": [
    "from sklearn.model_selection import train_test_split, GridSearchCV\n",
    "from sklearn.ensemble import RandomForestClassifier, RandomForestRegressor\n",
    "from sklearn.metrics import accuracy_score, mean_squared_error, mean_absolute_error, r2_score\n",
    "from sklearn.pipeline import make_pipeline\n",
    "from sklearn import set_config\n",
    "\n",
    "# Escolha RandomForestClassifier para problemas de classificação e RandomForestRegressor para regressão\n",
    "model = make_pipeline(preprocessor,RandomForestRegressor(random_state=21))  # ou RandomForestRegressor\n",
    "set_config(display='diagram')\n",
    "\n",
    "# Treinar o modelo\n",
    "model.fit(Train_X, Train_Y)\n",
    "\n",
    "# Fazer previsões\n",
    "Pred_Y = model.predict(Test_X)\n",
    "\n"
   ]
  },
  {
   "cell_type": "code",
   "execution_count": null,
   "metadata": {},
   "outputs": [],
   "source": [
    "model"
   ]
  },
  {
   "cell_type": "code",
   "execution_count": null,
   "metadata": {},
   "outputs": [],
   "source": [
    "def modelresults(predictions):\n",
    "    mae = mean_absolute_error(Test_Y, predictions)\n",
    "    mse = mean_squared_error(Test_Y, predictions)\n",
    "    r2 = r2_score(Test_Y, predictions)\n",
    "    \n",
    "    print('Mean absolute error on model is {:.4f}'.format(mae))\n",
    "    print('')\n",
    "    print('Mean squared error on model is {:.4f}'.format(mse))\n",
    "    print('')\n",
    "    print('The r2 score on model is {:.4f}'.format(r2))"
   ]
  },
  {
   "cell_type": "code",
   "execution_count": null,
   "metadata": {},
   "outputs": [],
   "source": [
    "modelresults(Pred_Y)"
   ]
  },
  {
   "cell_type": "markdown",
   "metadata": {},
   "source": [
    "#### 9.1.2. <a id='toc9_1_2_'></a>[Afinação dos hiperparâmetros com o GridSearchCV](#toc0_)"
   ]
  },
  {
   "cell_type": "code",
   "execution_count": null,
   "metadata": {},
   "outputs": [],
   "source": [
    "param_grid = {\n",
    "    'n_estimators': [100, 200, 300],      # Número de árvores na floresta\n",
    "    'max_features': ['auto', 'sqrt', 'log2'],  # Número de features a serem consideradas para divisão\n",
    "    'max_depth': [None, 10, 20, 30],      # Profundidade máxima da árvore\n",
    "    'min_samples_split': [2, 5, 10],      # Número mínimo de amostras para dividir um nó\n",
    "    'min_samples_leaf': [1, 2, 4]         # Número mínimo de amostras em um nó folha\n",
    "}\n"
   ]
  },
  {
   "cell_type": "markdown",
   "metadata": {},
   "source": [
    "#### 9.1.3. <a id='toc9_1_3_'></a>[Configurar e executar o GridSearchCV](#toc0_)"
   ]
  },
  {
   "cell_type": "code",
   "execution_count": null,
   "metadata": {},
   "outputs": [],
   "source": [
    "# Configurar o GridSearchCV\n",
    "grid_search = GridSearchCV(estimator=RandomForestRegressor(random_state=21), param_grid=param_grid, cv=5, n_jobs=-1, verbose=2)\n",
    "\n",
    "# Executar o GridSearchCV\n",
    "grid_search.fit(Train_X, Train_Y)\n",
    "\n",
    "# Obter os melhores hiperparâmetros\n",
    "best_params = grid_search.best_params_\n",
    "best_estimator = grid_search.best_estimator_\n",
    "print(f\"Melhor estimador: {best_estimator}\")\n",
    "print(f'Melhores hiperparâmetros: {best_params}')\n"
   ]
  },
  {
   "cell_type": "markdown",
   "metadata": {},
   "source": [
    "#### 9.1.4. <a id='toc9_1_4_'></a>[Treino do modelo com os melhores hiperparâmetros](#toc0_)"
   ]
  },
  {
   "cell_type": "code",
   "execution_count": null,
   "metadata": {},
   "outputs": [],
   "source": [
    "# Criar um novo modelo com os melhores hiperparâmetros\n",
    "#best_model = RandomForestClassifier(**best_params, random_state=42)  # ou RandomForestRegressor\n",
    "best_model = RandomForestRegressor(**best_params, random_state=42)  # ou RandomForestRegressor\n",
    "\n",
    "# Treinar o modelo\n",
    "best_model.fit(Train_X, Train_Y)\n",
    "\n",
    "# Fazer previsões\n",
    "best_y_pred = best_model.predict(Test_X)\n"
   ]
  },
  {
   "cell_type": "code",
   "execution_count": null,
   "metadata": {},
   "outputs": [],
   "source": [
    "modelresults(best_y_pred)"
   ]
  },
  {
   "cell_type": "markdown",
   "metadata": {},
   "source": [
    "## 10. <a id='toc10_'></a>[Resultados](#toc0_)"
   ]
  },
  {
   "cell_type": "markdown",
   "metadata": {},
   "source": [
    "## 11. <a id='toc11_'></a>[Considerações finais](#toc0_)"
   ]
  }
 ],
 "metadata": {
  "kernelspec": {
   "display_name": "bioinformatics",
   "language": "python",
   "name": "python3"
  },
  "language_info": {
   "codemirror_mode": {
    "name": "ipython",
    "version": 3
   },
   "file_extension": ".py",
   "mimetype": "text/x-python",
   "name": "python",
   "nbconvert_exporter": "python",
   "pygments_lexer": "ipython3",
   "version": "3.11.7"
  }
 },
 "nbformat": 4,
 "nbformat_minor": 2
}
